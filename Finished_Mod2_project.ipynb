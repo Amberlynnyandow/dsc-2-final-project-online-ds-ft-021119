{
 "cells": [
  {
   "cell_type": "markdown",
   "metadata": {},
   "source": [
    "**Amber Yandow<br>\n",
    "Full-time Data Science<br> \n",
    "4/10/19 - 5:00pm<br>\n",
    "Brandon Lewis<br>\n",
    "https://amberlynnyandow.github.io/**\n",
    "\n",
    "\n",
    "# Module 2 Final Project Objectives\n",
    "\n",
    "For this project, you'll be working with the Northwind database--a free, open-source dataset created by Microsoft containing data from a fictional company. Here's the schema for the Northwind database:\n",
    "\n",
    "<img src='Northwind_ERD.png'>\n",
    "\n",
    "The goal of this project is to test your ability to gather information from a real-world database and use your knowledge of statistical analysis and hypothesis testing to generate analytical insights that can be of value to the company. \n",
    "\n"
   ]
  },
  {
   "cell_type": "markdown",
   "metadata": {},
   "source": [
    "## Business Requirements\n",
    "**The goal of this project is to use statistics to determine the probability that a given hypothesis is true.<br>\n",
    "The relevant hypotheseses:**\n"
   ]
  },
  {
   "cell_type": "markdown",
   "metadata": {},
   "source": [
    "## Importing useful tools"
   ]
  },
  {
   "cell_type": "code",
   "execution_count": 1,
   "metadata": {},
   "outputs": [],
   "source": [
    "import pandas as pd \n",
    "import numpy as np\n",
    "import matplotlib.pyplot as plt\n",
    "%matplotlib inline \n",
    "import warnings\n",
    "warnings.filterwarnings('ignore')\n",
    "import seaborn as sns \n",
    "import sqlalchemy\n",
    "from sqlalchemy import create_engine\n",
    "from sqlalchemy import inspect"
   ]
  },
  {
   "cell_type": "markdown",
   "metadata": {},
   "source": [
    "## Data Aquisition  "
   ]
  },
  {
   "cell_type": "code",
   "execution_count": 2,
   "metadata": {},
   "outputs": [
    {
     "name": "stdout",
     "output_type": "stream",
     "text": [
      "['Category', 'Customer', 'CustomerCustomerDemo', 'CustomerDemographic', 'Employee', 'EmployeeTerritory', 'Order', 'OrderDetail', 'Product', 'Region', 'Shipper', 'Supplier', 'Territory']\n"
     ]
    }
   ],
   "source": [
    "engine = create_engine(\"sqlite:///Northwind_small.sqlite\")\n",
    "inspector = inspect(engine)\n",
    "print(inspector.get_table_names())"
   ]
  },
  {
   "cell_type": "code",
   "execution_count": 3,
   "metadata": {},
   "outputs": [
    {
     "name": "stdout",
     "output_type": "stream",
     "text": [
      "Table Name: Order\n",
      "\n",
      "Name: Id \t Type: INTEGER\n",
      "Name: CustomerId \t Type: VARCHAR(8000)\n",
      "Name: EmployeeId \t Type: INTEGER\n",
      "Name: OrderDate \t Type: VARCHAR(8000)\n",
      "Name: RequiredDate \t Type: VARCHAR(8000)\n",
      "Name: ShippedDate \t Type: VARCHAR(8000)\n",
      "Name: ShipVia \t Type: INTEGER\n",
      "Name: Freight \t Type: DECIMAL\n",
      "Name: ShipName \t Type: VARCHAR(8000)\n",
      "Name: ShipAddress \t Type: VARCHAR(8000)\n",
      "Name: ShipCity \t Type: VARCHAR(8000)\n",
      "Name: ShipRegion \t Type: VARCHAR(8000)\n",
      "Name: ShipPostalCode \t Type: VARCHAR(8000)\n",
      "Name: ShipCountry \t Type: VARCHAR(8000)\n",
      "None\n"
     ]
    }
   ],
   "source": [
    "def get_columns_info(col_name): #function that returns well-formatted table info \n",
    "    cols_list = inspector.get_columns(col_name)\n",
    "    print('Table Name: {}'.format(col_name))\n",
    "    print('')\n",
    "    \n",
    "    for column in cols_list:\n",
    "        print('Name: {} \\t Type: {}'.format(column['name'], column['type']))\n",
    "\n",
    "test = get_columns_info('Order')\n",
    "print(test)\n"
   ]
  },
  {
   "cell_type": "markdown",
   "metadata": {},
   "source": [
    "## Inquiry 1: Do discounts have a statistically significant effect on the number of products customers order? If so, what levels? \n",
    "\n",
    "**$H_O$: Discounts have no effect on the number of products customers order.<br> \n",
    "$H_a$: Discounts have an effect on the number of products customers order.<br> \n",
    "$\\alpha$ = 0.05**"
   ]
  },
  {
   "cell_type": "markdown",
   "metadata": {},
   "source": [
    "## Data Cleaning "
   ]
  },
  {
   "cell_type": "code",
   "execution_count": 4,
   "metadata": {},
   "outputs": [
    {
     "name": "stdout",
     "output_type": "stream",
     "text": [
      "Rows and Columns:\n",
      " (2155, 6) \n",
      "\n",
      " -------------------------\n",
      "\n",
      "\n",
      "<class 'pandas.core.frame.DataFrame'>\n",
      "RangeIndex: 2155 entries, 0 to 2154\n",
      "Data columns (total 6 columns):\n",
      "Id           2155 non-null object\n",
      "OrderId      2155 non-null int64\n",
      "ProductId    2155 non-null int64\n",
      "UnitPrice    2155 non-null float64\n",
      "Quantity     2155 non-null int64\n",
      "Discount     2155 non-null float64\n",
      "dtypes: float64(2), int64(3), object(1)\n",
      "memory usage: 101.1+ KB\n",
      "None \n",
      "\n",
      " -------------------------\n",
      "\n",
      "\n",
      "Dataframe Head\n",
      "          Id  OrderId  ProductId  UnitPrice  Quantity  Discount\n",
      "0  10248/11    10248         11       14.0        12       0.0\n",
      "1  10248/42    10248         42        9.8        10       0.0\n",
      "2  10248/72    10248         72       34.8         5       0.0\n",
      "3  10249/14    10249         14       18.6         9       0.0\n",
      "4  10249/51    10249         51       42.4        40       0.0\n"
     ]
    }
   ],
   "source": [
    "df1 = pd.read_sql_query('''SELECT * FROM OrderDetail;''', engine)\n",
    "print('Rows and Columns:\\n', df1.shape,'\\n\\n', '-------------------------\\n\\n')\n",
    "print( df1.info(), '\\n\\n', '-------------------------\\n\\n')\n",
    "print('Dataframe Head\\n', df1.head())"
   ]
  },
  {
   "cell_type": "code",
   "execution_count": 5,
   "metadata": {},
   "outputs": [
    {
     "data": {
      "text/html": [
       "<div>\n",
       "<style scoped>\n",
       "    .dataframe tbody tr th:only-of-type {\n",
       "        vertical-align: middle;\n",
       "    }\n",
       "\n",
       "    .dataframe tbody tr th {\n",
       "        vertical-align: top;\n",
       "    }\n",
       "\n",
       "    .dataframe thead th {\n",
       "        text-align: right;\n",
       "    }\n",
       "</style>\n",
       "<table border=\"1\" class=\"dataframe\">\n",
       "  <thead>\n",
       "    <tr style=\"text-align: right;\">\n",
       "      <th></th>\n",
       "      <th>ProductId</th>\n",
       "      <th>UnitPrice</th>\n",
       "      <th>Quantity</th>\n",
       "      <th>Discount</th>\n",
       "    </tr>\n",
       "  </thead>\n",
       "  <tbody>\n",
       "    <tr>\n",
       "      <th>0</th>\n",
       "      <td>11</td>\n",
       "      <td>14.0</td>\n",
       "      <td>12</td>\n",
       "      <td>0.0</td>\n",
       "    </tr>\n",
       "    <tr>\n",
       "      <th>1</th>\n",
       "      <td>42</td>\n",
       "      <td>9.8</td>\n",
       "      <td>10</td>\n",
       "      <td>0.0</td>\n",
       "    </tr>\n",
       "    <tr>\n",
       "      <th>2</th>\n",
       "      <td>72</td>\n",
       "      <td>34.8</td>\n",
       "      <td>5</td>\n",
       "      <td>0.0</td>\n",
       "    </tr>\n",
       "    <tr>\n",
       "      <th>3</th>\n",
       "      <td>14</td>\n",
       "      <td>18.6</td>\n",
       "      <td>9</td>\n",
       "      <td>0.0</td>\n",
       "    </tr>\n",
       "    <tr>\n",
       "      <th>4</th>\n",
       "      <td>51</td>\n",
       "      <td>42.4</td>\n",
       "      <td>40</td>\n",
       "      <td>0.0</td>\n",
       "    </tr>\n",
       "  </tbody>\n",
       "</table>\n",
       "</div>"
      ],
      "text/plain": [
       "   ProductId  UnitPrice  Quantity  Discount\n",
       "0         11       14.0        12       0.0\n",
       "1         42        9.8        10       0.0\n",
       "2         72       34.8         5       0.0\n",
       "3         14       18.6         9       0.0\n",
       "4         51       42.4        40       0.0"
      ]
     },
     "execution_count": 5,
     "metadata": {},
     "output_type": "execute_result"
    }
   ],
   "source": [
    "'''We do not need Id and OrderId, lets drop those to decrease any noise.'''\n",
    "\n",
    "df1 = df1.drop(['Id', 'OrderId'], axis=1)\n",
    "df1.head()"
   ]
  },
  {
   "cell_type": "code",
   "execution_count": 6,
   "metadata": {},
   "outputs": [
    {
     "data": {
      "text/plain": [
       "0.00    1317\n",
       "0.05     185\n",
       "0.10     173\n",
       "0.20     161\n",
       "0.15     157\n",
       "0.25     154\n",
       "0.03       3\n",
       "0.02       2\n",
       "0.01       1\n",
       "0.04       1\n",
       "0.06       1\n",
       "Name: Discount, dtype: int64"
      ]
     },
     "execution_count": 6,
     "metadata": {},
     "output_type": "execute_result"
    }
   ],
   "source": [
    "df1.Discount.value_counts() #What are the discount amounts and quantities? "
   ]
  },
  {
   "cell_type": "code",
   "execution_count": 7,
   "metadata": {},
   "outputs": [
    {
     "data": {
      "text/plain": [
       "0.00    1317\n",
       "0.05     185\n",
       "0.10     173\n",
       "0.20     161\n",
       "0.15     157\n",
       "0.25     154\n",
       "Name: Discount, dtype: int64"
      ]
     },
     "execution_count": 7,
     "metadata": {},
     "output_type": "execute_result"
    }
   ],
   "source": [
    "'''There is no missing data to deal with. No null values and the datatypes seem appropriate.\n",
    "   However, there is insufficient data records for 1%, 2%, 3%, 4% and 6%. We should eliminate those.'''\n",
    " \n",
    "new_discount = (df1.Discount == 0.00) | (df1.Discount == 0.05) | (df1.Discount == 0.10) | (df1.Discount == 0.15) | (df1.Discount == 0.20) | (df1.Discount == 0.25)\n",
    "df1_new = df1.loc[new_discount]\n",
    "df1_new.Discount.value_counts()\n"
   ]
  },
  {
   "cell_type": "markdown",
   "metadata": {},
   "source": [
    "## Data Exploration"
   ]
  },
  {
   "cell_type": "code",
   "execution_count": 8,
   "metadata": {},
   "outputs": [
    {
     "data": {
      "image/png": "[encoded data removed]",
      "text/plain": [
       "<Figure size 720x360 with 1 Axes>"
      ]
     },
     "metadata": {
      "needs_background": "light"
     },
     "output_type": "display_data"
    }
   ],
   "source": [
    "df1_new.boxplot('Quantity', by='Discount', figsize=(10,5)); #How many outliers do we have? "
   ]
  },
  {
   "cell_type": "code",
   "execution_count": 9,
   "metadata": {},
   "outputs": [
    {
     "data": {
      "image/png": "[encoded data removed]",
      "text/plain": [
       "<Figure size 360x360 with 1 Axes>"
      ]
     },
     "metadata": {
      "needs_background": "light"
     },
     "output_type": "display_data"
    }
   ],
   "source": [
    "fig, ax = plt.subplots(figsize=(5,5)) #Use for analysis of which discount is best #create a box plot instead just discounts\n",
    "sns.countplot(x='Discount',\n",
    "              data=df1_new)\n",
    "plt.title('Total Products Sold')\n",
    "plt.show()\n",
    "\n"
   ]
  },
  {
   "cell_type": "code",
   "execution_count": 10,
   "metadata": {},
   "outputs": [
    {
     "data": {
      "image/png": "[encoded data removed]",
      "text/plain": [
       "<Figure size 432x288 with 1 Axes>"
      ]
     },
     "metadata": {
      "needs_background": "light"
     },
     "output_type": "display_data"
    },
    {
     "name": "stdout",
     "output_type": "stream",
     "text": [
      "The average amount of items ordered with a discount is 26.72 items. The average amount of items ordered without a discount is 21.81 items\n"
     ]
    }
   ],
   "source": [
    "discount = df1_new[df1_new['Discount']!=0].groupby('ProductId')['Quantity'].mean()\n",
    "no_discount = df1_new[df1_new['Discount']==0].groupby('ProductId')['Quantity'].mean()\n",
    "\n",
    "sns.distplot( no_discount , color=\"skyblue\", label=\"Non-discounted Orders\")\n",
    "sns.distplot( discount , color=\"red\", label=\"Discounted Orders\")\n",
    "plt.legend()\n",
    " \n",
    "plt.show()\n",
    "print(\"The average amount of items ordered with a discount is {} items. The average amount of items ordered without a discount is {} items\".format(round(discount.values.mean(),2), round(no_discount.values.mean(),2)))"
   ]
  },
  {
   "cell_type": "markdown",
   "metadata": {},
   "source": [
    "**The average number of discounted items sold is higher than the average number of non-discounted items sold. Therefore, there is enough evidence to proceed with a hypothesis test.**"
   ]
  },
  {
   "cell_type": "markdown",
   "metadata": {},
   "source": [
    "## Data Modeling\n",
    "#### We will use a one-tailed t-test because we want to know if the average number of discounted products ordered is higher than the average number of non-discounted products orered. Our $\\alpha$ = 0.05. If p < $\\alpha$, we reject the null hypothesis.\n",
    "$H_O$: Discounts have no effect on the number of products customers order.<br> \n",
    "$H_a$: Discounts have an effect on the number of products customers order.<br> \n"
   ]
  },
  {
   "cell_type": "code",
   "execution_count": 11,
   "metadata": {},
   "outputs": [
    {
     "name": "stdout",
     "output_type": "stream",
     "text": [
      "Statistics=0.999, p=0.867\n",
      "Non-discounted data looks normal\n"
     ]
    }
   ],
   "source": [
    "'''T-tests are used in hypothesis testing because they compare two means;\n",
    "   they can tell you the level of significance the differences have;\n",
    "   and the probability that the difference could've happened by chance.\n",
    "   The Welch's T test does not assume the samples have equal variances but \n",
    "   it does assume normality'''\n",
    "\n",
    "from scipy.stats import shapiro #checking orders without discounts for normality \n",
    "no_discount = np.array(no_discount)\n",
    "mu = np.mean(no_discount)\n",
    "sig = np.std(no_discount)\n",
    "no_discount = np.random.normal(mu, sig, 1317)\n",
    "stat, p = shapiro(no_discount)\n",
    "print('Statistics=%.3f, p=%.3f' % (stat, p))\n",
    "alpha = .05\n",
    "if p > alpha:\n",
    "    print('Non-discounted data looks normal')\n",
    "else:\n",
    "    print('Non-discounted data does not look normal')"
   ]
  },
  {
   "cell_type": "code",
   "execution_count": 12,
   "metadata": {},
   "outputs": [
    {
     "name": "stdout",
     "output_type": "stream",
     "text": [
      "Statistics=0.999, p=0.558\n",
      "Discounted data looks normal\n"
     ]
    }
   ],
   "source": [
    "from scipy.stats import shapiro #checking orders with discounts for normality \n",
    "discount = np.array(discount)\n",
    "mu = np.mean(discount)\n",
    "sig = np.std(discount)\n",
    "discount = np.random.normal(mu, sig, 1317)\n",
    "stat, p = shapiro(discount)\n",
    "print('Statistics=%.3f, p=%.3f' % (stat, p))\n",
    "alpha = .05\n",
    "if p > alpha:\n",
    "    print('Discounted data looks normal')\n",
    "else:\n",
    "    print('Discounted data does not look normal')"
   ]
  },
  {
   "cell_type": "markdown",
   "metadata": {},
   "source": [
    "**Both the discounted and non-discounted datasets appear normal so we can move onto the Welch's T-test.** "
   ]
  },
  {
   "cell_type": "code",
   "execution_count": 13,
   "metadata": {},
   "outputs": [],
   "source": [
    "'''If a statistical difference exists, effect size will measure the magnitude of that difference.\n",
    "   Cohens D is a popular means of measuring effect size.'''\n",
    "\n",
    "def Cohen_d(group1, group2):\n",
    "    diff = group1.mean() - group2.mean()\n",
    "    n1, n2 = len(group1), len(group2)\n",
    "    var1 = group1.var()\n",
    "    var2 = group2.var()\n",
    "    pooled_var = (n1 * var1 + n2 * var2) / (n1 + n2)\n",
    "    d = diff / np.sqrt(pooled_var)\n",
    "    return abs(d)"
   ]
  },
  {
   "cell_type": "code",
   "execution_count": 14,
   "metadata": {},
   "outputs": [
    {
     "name": "stdout",
     "output_type": "stream",
     "text": [
      "p_value = 1.7401995278127614e-11\n",
      "Reject null hypothesis\n",
      "Cohen's d = 0.29970787209408895\n"
     ]
    }
   ],
   "source": [
    "from scipy import stats \n",
    "no_discount = df1_new[df1_new['Discount']==0]['Quantity'] #control\n",
    "discount = df1_new[df1_new['Discount']!=0]['Quantity']#experimental \n",
    "\n",
    "'''It is important to keep the discounted items and non-discounted items seperate. We will\n",
    "refer to the non-discounted items as the control. This prevents any undue influence.'''\n",
    "\n",
    "t_stat, p = stats.ttest_ind(no_discount, discount)#welchs t-test \n",
    "d = Cohen_d(discount, no_discount)\n",
    "print('p_value =', p)\n",
    "print('Reject null hypothesis') if p < 0.05 else print('Failed to reject null hypothesis')\n",
    "print(\"Cohen's d =\", d)\n"
   ]
  },
  {
   "cell_type": "code",
   "execution_count": 15,
   "metadata": {},
   "outputs": [
    {
     "data": {
      "image/png": "[encoded data removed]",
      "text/plain": [
       "<Figure size 432x288 with 1 Axes>"
      ]
     },
     "metadata": {
      "needs_background": "light"
     },
     "output_type": "display_data"
    }
   ],
   "source": [
    "from statsmodels.stats.multicomp import pairwise_tukeyhsd #Comparing bewtween discounts \n",
    "from statsmodels.stats.multicomp import MultiComparison\n",
    "\n",
    "mc = MultiComparison(df1_new['Quantity'], df1_new['Discount'])\n",
    "mc_results = mc.tukeyhsd()\n",
    "mc_results.plot_simultaneous(comparison_name=0.0, figsize=(6,4), \n",
    "                             ylabel='Discount Level\\n', xlabel='\\nAverage Number of Products in Order');"
   ]
  },
  {
   "cell_type": "markdown",
   "metadata": {},
   "source": [
    "## Results"
   ]
  },
  {
   "cell_type": "markdown",
   "metadata": {},
   "source": [
    "**The calculated p-value for our Welch's test was less than our level of significance. So, we are able to reject the null hypothesis and show that discounts do effect the quantity of orders purchased. However, according to our D statistic the effect is small.** \n",
    "\n",
    "**The Tukey test tells us, specifically, which groups means differ. Cohen's D could also measure the mean differences. Here, we can see that all discount levels significantly effect order quantity except for the 10% discount(grey line).**"
   ]
  },
  {
   "cell_type": "markdown",
   "metadata": {},
   "source": [
    "## Does demand for products in each category significantly differ by month? "
   ]
  },
  {
   "cell_type": "markdown",
   "metadata": {},
   "source": [
    "#### To answer this question I will perform eight ANOVA tests(one for each category). An analysis of variance determines whether there is a difference between the means of two or more groups. ANOVA require the same assumptions as our TTest but we will be using an F statistic to accept or reject the null hypothesis. The F statistic is robust to violations of normality and homogeneity of variance. So, for the following tests we will not test normality or variance. \n",
    "\n",
    "#### The test statistic F follows an F-distribution with $q$ - 1 degrees of freedom, with $q$ being the number of groups. \n",
    "\n",
    "#### $H_O$: There is not a statistically significant difference for demand of product monthly\n",
    "#### $H_a$: There is a statistically significant difference for demand of product monthly \n",
    "\n",
    "#### If F < $\\alpha$(0.05) then we reject the null hypothesis "
   ]
  },
  {
   "cell_type": "code",
   "execution_count": 16,
   "metadata": {},
   "outputs": [],
   "source": [
    "import statsmodels.api as sm #Imports for ANOVA\n",
    "import statsmodels.formula.api as smf"
   ]
  },
  {
   "cell_type": "code",
   "execution_count": 17,
   "metadata": {},
   "outputs": [
    {
     "data": {
      "text/html": [
       "<div>\n",
       "<style scoped>\n",
       "    .dataframe tbody tr th:only-of-type {\n",
       "        vertical-align: middle;\n",
       "    }\n",
       "\n",
       "    .dataframe tbody tr th {\n",
       "        vertical-align: top;\n",
       "    }\n",
       "\n",
       "    .dataframe thead th {\n",
       "        text-align: right;\n",
       "    }\n",
       "</style>\n",
       "<table border=\"1\" class=\"dataframe\">\n",
       "  <thead>\n",
       "    <tr style=\"text-align: right;\">\n",
       "      <th></th>\n",
       "      <th>Id</th>\n",
       "      <th>CategoryName</th>\n",
       "      <th>Description</th>\n",
       "    </tr>\n",
       "  </thead>\n",
       "  <tbody>\n",
       "    <tr>\n",
       "      <th>0</th>\n",
       "      <td>1</td>\n",
       "      <td>Beverages</td>\n",
       "      <td>Soft drinks, coffees, teas, beers, and ales</td>\n",
       "    </tr>\n",
       "    <tr>\n",
       "      <th>1</th>\n",
       "      <td>2</td>\n",
       "      <td>Condiments</td>\n",
       "      <td>Sweet and savory sauces, relishes, spreads, an...</td>\n",
       "    </tr>\n",
       "    <tr>\n",
       "      <th>2</th>\n",
       "      <td>3</td>\n",
       "      <td>Confections</td>\n",
       "      <td>Desserts, candies, and sweet breads</td>\n",
       "    </tr>\n",
       "    <tr>\n",
       "      <th>3</th>\n",
       "      <td>4</td>\n",
       "      <td>Dairy Products</td>\n",
       "      <td>Cheeses</td>\n",
       "    </tr>\n",
       "    <tr>\n",
       "      <th>4</th>\n",
       "      <td>5</td>\n",
       "      <td>Grains/Cereals</td>\n",
       "      <td>Breads, crackers, pasta, and cereal</td>\n",
       "    </tr>\n",
       "    <tr>\n",
       "      <th>5</th>\n",
       "      <td>6</td>\n",
       "      <td>Meat/Poultry</td>\n",
       "      <td>Prepared meats</td>\n",
       "    </tr>\n",
       "    <tr>\n",
       "      <th>6</th>\n",
       "      <td>7</td>\n",
       "      <td>Produce</td>\n",
       "      <td>Dried fruit and bean curd</td>\n",
       "    </tr>\n",
       "    <tr>\n",
       "      <th>7</th>\n",
       "      <td>8</td>\n",
       "      <td>Seafood</td>\n",
       "      <td>Seaweed and fish</td>\n",
       "    </tr>\n",
       "  </tbody>\n",
       "</table>\n",
       "</div>"
      ],
      "text/plain": [
       "   Id    CategoryName                                        Description\n",
       "0   1       Beverages        Soft drinks, coffees, teas, beers, and ales\n",
       "1   2      Condiments  Sweet and savory sauces, relishes, spreads, an...\n",
       "2   3     Confections                Desserts, candies, and sweet breads\n",
       "3   4  Dairy Products                                            Cheeses\n",
       "4   5  Grains/Cereals                Breads, crackers, pasta, and cereal\n",
       "5   6    Meat/Poultry                                     Prepared meats\n",
       "6   7         Produce                          Dried fruit and bean curd\n",
       "7   8         Seafood                                   Seaweed and fish"
      ]
     },
     "execution_count": 17,
     "metadata": {},
     "output_type": "execute_result"
    }
   ],
   "source": [
    "df_category = pd.read_sql_query('''SELECT * FROM Category;''', engine)#What are the product descriptions? \n",
    "df_category.head(10)"
   ]
  },
  {
   "cell_type": "markdown",
   "metadata": {},
   "source": [
    "## df2 = Category 1 = Beverages "
   ]
  },
  {
   "cell_type": "code",
   "execution_count": 18,
   "metadata": {},
   "outputs": [
    {
     "name": "stdout",
     "output_type": "stream",
     "text": [
      "Rows and Columns:\n",
      " (404, 4) \n",
      "\n",
      " ********************\n",
      "\n",
      "\n",
      "<class 'pandas.core.frame.DataFrame'>\n",
      "RangeIndex: 404 entries, 0 to 403\n",
      "Data columns (total 4 columns):\n",
      "OrderDate     404 non-null object\n",
      "Quantity      404 non-null int64\n",
      "Discount      404 non-null float64\n",
      "CategoryId    404 non-null int64\n",
      "dtypes: float64(1), int64(2), object(1)\n",
      "memory usage: 12.7+ KB\n",
      "None \n",
      "\n",
      " ********************\n",
      "\n",
      "\n",
      "Dataframe Head\n",
      "     OrderDate  Quantity  Discount  CategoryId\n",
      "0  2012-07-10        42      0.00           1\n",
      "1  2012-07-11        15      0.15           1\n",
      "2  2012-07-12        20      0.00           1\n",
      "3  2012-07-16         6      0.00           1\n",
      "4  2012-07-17        50      0.20           1\n"
     ]
    }
   ],
   "source": [
    "df2 = pd.read_sql_query('''\n",
    "\n",
    "                                SELECT O.OrderDate, OD.Quantity, OD.Discount, CategoryId FROM [Order] AS O\n",
    "                                JOIN OrderDetail AS OD\n",
    "                                ON O.Id = OD.OrderId\n",
    "                                JOIN Product\n",
    "                                ON Product.Id = OD.ProductId\n",
    "                                WHERE Product.CategoryId = 1\n",
    "\n",
    "''',engine)\n",
    "print('Rows and Columns:\\n', df2.shape,'\\n\\n', '********************\\n\\n')\n",
    "print( df2.info(), '\\n\\n', '********************\\n\\n')\n",
    "print('Dataframe Head\\n', df2.head())"
   ]
  },
  {
   "cell_type": "markdown",
   "metadata": {},
   "source": [
    "### Grouping by month "
   ]
  },
  {
   "cell_type": "code",
   "execution_count": 19,
   "metadata": {},
   "outputs": [
    {
     "data": {
      "text/html": [
       "<div>\n",
       "<style scoped>\n",
       "    .dataframe tbody tr th:only-of-type {\n",
       "        vertical-align: middle;\n",
       "    }\n",
       "\n",
       "    .dataframe tbody tr th {\n",
       "        vertical-align: top;\n",
       "    }\n",
       "\n",
       "    .dataframe thead th {\n",
       "        text-align: right;\n",
       "    }\n",
       "</style>\n",
       "<table border=\"1\" class=\"dataframe\">\n",
       "  <thead>\n",
       "    <tr style=\"text-align: right;\">\n",
       "      <th></th>\n",
       "      <th>Quantity</th>\n",
       "      <th>Discount</th>\n",
       "      <th>CategoryId</th>\n",
       "    </tr>\n",
       "    <tr>\n",
       "      <th>Month</th>\n",
       "      <th></th>\n",
       "      <th></th>\n",
       "      <th></th>\n",
       "    </tr>\n",
       "  </thead>\n",
       "  <tbody>\n",
       "    <tr>\n",
       "      <th>1</th>\n",
       "      <td>21.636364</td>\n",
       "      <td>0.062500</td>\n",
       "      <td>1.0</td>\n",
       "    </tr>\n",
       "    <tr>\n",
       "      <th>2</th>\n",
       "      <td>25.707317</td>\n",
       "      <td>0.060976</td>\n",
       "      <td>1.0</td>\n",
       "    </tr>\n",
       "    <tr>\n",
       "      <th>3</th>\n",
       "      <td>27.372549</td>\n",
       "      <td>0.058824</td>\n",
       "      <td>1.0</td>\n",
       "    </tr>\n",
       "    <tr>\n",
       "      <th>4</th>\n",
       "      <td>24.727273</td>\n",
       "      <td>0.075455</td>\n",
       "      <td>1.0</td>\n",
       "    </tr>\n",
       "    <tr>\n",
       "      <th>5</th>\n",
       "      <td>20.884615</td>\n",
       "      <td>0.067308</td>\n",
       "      <td>1.0</td>\n",
       "    </tr>\n",
       "    <tr>\n",
       "      <th>6</th>\n",
       "      <td>20.866667</td>\n",
       "      <td>0.040000</td>\n",
       "      <td>1.0</td>\n",
       "    </tr>\n",
       "    <tr>\n",
       "      <th>7</th>\n",
       "      <td>22.185185</td>\n",
       "      <td>0.066667</td>\n",
       "      <td>1.0</td>\n",
       "    </tr>\n",
       "    <tr>\n",
       "      <th>8</th>\n",
       "      <td>20.636364</td>\n",
       "      <td>0.051515</td>\n",
       "      <td>1.0</td>\n",
       "    </tr>\n",
       "    <tr>\n",
       "      <th>9</th>\n",
       "      <td>21.857143</td>\n",
       "      <td>0.026190</td>\n",
       "      <td>1.0</td>\n",
       "    </tr>\n",
       "    <tr>\n",
       "      <th>10</th>\n",
       "      <td>24.000000</td>\n",
       "      <td>0.078788</td>\n",
       "      <td>1.0</td>\n",
       "    </tr>\n",
       "    <tr>\n",
       "      <th>11</th>\n",
       "      <td>23.200000</td>\n",
       "      <td>0.052000</td>\n",
       "      <td>1.0</td>\n",
       "    </tr>\n",
       "    <tr>\n",
       "      <th>12</th>\n",
       "      <td>24.333333</td>\n",
       "      <td>0.069697</td>\n",
       "      <td>1.0</td>\n",
       "    </tr>\n",
       "  </tbody>\n",
       "</table>\n",
       "</div>"
      ],
      "text/plain": [
       "        Quantity  Discount  CategoryId\n",
       "Month                                 \n",
       "1      21.636364  0.062500         1.0\n",
       "2      25.707317  0.060976         1.0\n",
       "3      27.372549  0.058824         1.0\n",
       "4      24.727273  0.075455         1.0\n",
       "5      20.884615  0.067308         1.0\n",
       "6      20.866667  0.040000         1.0\n",
       "7      22.185185  0.066667         1.0\n",
       "8      20.636364  0.051515         1.0\n",
       "9      21.857143  0.026190         1.0\n",
       "10     24.000000  0.078788         1.0\n",
       "11     23.200000  0.052000         1.0\n",
       "12     24.333333  0.069697         1.0"
      ]
     },
     "execution_count": 19,
     "metadata": {},
     "output_type": "execute_result"
    }
   ],
   "source": [
    "df2.OrderDate = pd.to_datetime(df2.OrderDate)\n",
    "df2['Month'] = df2.OrderDate.dt.month\n",
    "df2.groupby('Month').mean()\n"
   ]
  },
  {
   "cell_type": "code",
   "execution_count": 20,
   "metadata": {},
   "outputs": [
    {
     "data": {
      "image/png": "[encoded data removed]",
      "text/plain": [
       "<Figure size 720x360 with 1 Axes>"
      ]
     },
     "metadata": {
      "needs_background": "light"
     },
     "output_type": "display_data"
    }
   ],
   "source": [
    "fig, ax = plt.subplots(figsize=(10,5)) \n",
    "sns.countplot(x='Month',\n",
    "              data=df2)\n",
    "plt.title('Beverages by Month')\n",
    "plt.show()"
   ]
  },
  {
   "cell_type": "code",
   "execution_count": 21,
   "metadata": {},
   "outputs": [
    {
     "name": "stdout",
     "output_type": "stream",
     "text": [
      "                 sum_sq     df         F    PR(>F)\n",
      "C(Month)    1885.923081   11.0  0.457102  0.928559\n",
      "Residual  147029.502662  392.0       NaN       NaN\n"
     ]
    }
   ],
   "source": [
    "formula = 'Quantity ~ C(Month)'\n",
    "lm = smf.ols(formula, df2).fit()\n",
    "table = sm.stats.anova_lm(lm, typ=2)\n",
    "print(table)"
   ]
  },
  {
   "cell_type": "markdown",
   "metadata": {},
   "source": [
    "## df3 = Category 2 = Condiments "
   ]
  },
  {
   "cell_type": "code",
   "execution_count": 22,
   "metadata": {},
   "outputs": [
    {
     "name": "stdout",
     "output_type": "stream",
     "text": [
      "Rows and Columns:\n",
      " (216, 4) \n",
      "\n",
      " ********************\n",
      "\n",
      "\n",
      "<class 'pandas.core.frame.DataFrame'>\n",
      "RangeIndex: 216 entries, 0 to 215\n",
      "Data columns (total 4 columns):\n",
      "OrderDate     216 non-null object\n",
      "Quantity      216 non-null int64\n",
      "Discount      216 non-null float64\n",
      "CategoryId    216 non-null int64\n",
      "dtypes: float64(1), int64(2), object(1)\n",
      "memory usage: 6.8+ KB\n",
      "None \n",
      "\n",
      " ********************\n",
      "\n",
      "\n",
      "Dataframe Head\n",
      "     OrderDate  Quantity  Discount  CategoryId\n",
      "0  2012-07-08        15      0.15           2\n",
      "1  2012-07-08        20      0.00           2\n",
      "2  2012-07-15        12      0.00           2\n",
      "3  2012-07-16        15      0.00           2\n",
      "4  2012-07-17        65      0.20           2\n"
     ]
    }
   ],
   "source": [
    "df3 = pd.read_sql_query('''\n",
    "\n",
    "                                SELECT O.OrderDate, OD.Quantity, OD.Discount, CategoryId FROM [Order] AS O\n",
    "                                JOIN OrderDetail AS OD\n",
    "                                ON O.Id = OD.OrderId\n",
    "                                JOIN Product\n",
    "                                ON Product.Id = OD.ProductId\n",
    "                                WHERE Product.CategoryId = 2\n",
    "\n",
    "''',engine)\n",
    "print('Rows and Columns:\\n', df3.shape,'\\n\\n', '********************\\n\\n')\n",
    "print( df3.info(), '\\n\\n', '********************\\n\\n')\n",
    "print('Dataframe Head\\n', df3.head())"
   ]
  },
  {
   "cell_type": "code",
   "execution_count": 23,
   "metadata": {},
   "outputs": [
    {
     "data": {
      "text/html": [
       "<div>\n",
       "<style scoped>\n",
       "    .dataframe tbody tr th:only-of-type {\n",
       "        vertical-align: middle;\n",
       "    }\n",
       "\n",
       "    .dataframe tbody tr th {\n",
       "        vertical-align: top;\n",
       "    }\n",
       "\n",
       "    .dataframe thead th {\n",
       "        text-align: right;\n",
       "    }\n",
       "</style>\n",
       "<table border=\"1\" class=\"dataframe\">\n",
       "  <thead>\n",
       "    <tr style=\"text-align: right;\">\n",
       "      <th></th>\n",
       "      <th>Quantity</th>\n",
       "      <th>Discount</th>\n",
       "      <th>CategoryId</th>\n",
       "    </tr>\n",
       "    <tr>\n",
       "      <th>Month</th>\n",
       "      <th></th>\n",
       "      <th></th>\n",
       "      <th></th>\n",
       "    </tr>\n",
       "  </thead>\n",
       "  <tbody>\n",
       "    <tr>\n",
       "      <th>1</th>\n",
       "      <td>25.714286</td>\n",
       "      <td>0.066667</td>\n",
       "      <td>2.0</td>\n",
       "    </tr>\n",
       "    <tr>\n",
       "      <th>2</th>\n",
       "      <td>35.894737</td>\n",
       "      <td>0.052632</td>\n",
       "      <td>2.0</td>\n",
       "    </tr>\n",
       "    <tr>\n",
       "      <th>3</th>\n",
       "      <td>21.120000</td>\n",
       "      <td>0.062000</td>\n",
       "      <td>2.0</td>\n",
       "    </tr>\n",
       "    <tr>\n",
       "      <th>4</th>\n",
       "      <td>21.363636</td>\n",
       "      <td>0.050000</td>\n",
       "      <td>2.0</td>\n",
       "    </tr>\n",
       "    <tr>\n",
       "      <th>5</th>\n",
       "      <td>21.117647</td>\n",
       "      <td>0.054118</td>\n",
       "      <td>2.0</td>\n",
       "    </tr>\n",
       "    <tr>\n",
       "      <th>6</th>\n",
       "      <td>15.833333</td>\n",
       "      <td>0.008333</td>\n",
       "      <td>2.0</td>\n",
       "    </tr>\n",
       "    <tr>\n",
       "      <th>7</th>\n",
       "      <td>29.266667</td>\n",
       "      <td>0.116667</td>\n",
       "      <td>2.0</td>\n",
       "    </tr>\n",
       "    <tr>\n",
       "      <th>8</th>\n",
       "      <td>21.176471</td>\n",
       "      <td>0.044118</td>\n",
       "      <td>2.0</td>\n",
       "    </tr>\n",
       "    <tr>\n",
       "      <th>9</th>\n",
       "      <td>25.538462</td>\n",
       "      <td>0.038462</td>\n",
       "      <td>2.0</td>\n",
       "    </tr>\n",
       "    <tr>\n",
       "      <th>10</th>\n",
       "      <td>23.842105</td>\n",
       "      <td>0.031579</td>\n",
       "      <td>2.0</td>\n",
       "    </tr>\n",
       "    <tr>\n",
       "      <th>11</th>\n",
       "      <td>25.888889</td>\n",
       "      <td>0.033333</td>\n",
       "      <td>2.0</td>\n",
       "    </tr>\n",
       "    <tr>\n",
       "      <th>12</th>\n",
       "      <td>26.076923</td>\n",
       "      <td>0.046154</td>\n",
       "      <td>2.0</td>\n",
       "    </tr>\n",
       "  </tbody>\n",
       "</table>\n",
       "</div>"
      ],
      "text/plain": [
       "        Quantity  Discount  CategoryId\n",
       "Month                                 \n",
       "1      25.714286  0.066667         2.0\n",
       "2      35.894737  0.052632         2.0\n",
       "3      21.120000  0.062000         2.0\n",
       "4      21.363636  0.050000         2.0\n",
       "5      21.117647  0.054118         2.0\n",
       "6      15.833333  0.008333         2.0\n",
       "7      29.266667  0.116667         2.0\n",
       "8      21.176471  0.044118         2.0\n",
       "9      25.538462  0.038462         2.0\n",
       "10     23.842105  0.031579         2.0\n",
       "11     25.888889  0.033333         2.0\n",
       "12     26.076923  0.046154         2.0"
      ]
     },
     "execution_count": 23,
     "metadata": {},
     "output_type": "execute_result"
    }
   ],
   "source": [
    "df3.OrderDate = pd.to_datetime(df3.OrderDate) #grouping by month \n",
    "df3['Month'] = df3.OrderDate.dt.month\n",
    "df3.groupby('Month').mean()"
   ]
  },
  {
   "cell_type": "code",
   "execution_count": 24,
   "metadata": {},
   "outputs": [
    {
     "data": {
      "image/png": "[encoded data removed]",
      "text/plain": [
       "<Figure size 720x360 with 1 Axes>"
      ]
     },
     "metadata": {
      "needs_background": "light"
     },
     "output_type": "display_data"
    }
   ],
   "source": [
    "fig, ax = plt.subplots(figsize=(10,5)) #visualization\n",
    "sns.countplot(x='Month',\n",
    "              data=df3)\n",
    "plt.title('Condiments by Month')\n",
    "plt.show()"
   ]
  },
  {
   "cell_type": "code",
   "execution_count": 25,
   "metadata": {},
   "outputs": [
    {
     "name": "stdout",
     "output_type": "stream",
     "text": [
      "                sum_sq     df         F    PR(>F)\n",
      "C(Month)   4371.021881   11.0  1.018466  0.431231\n",
      "Residual  79592.811452  204.0       NaN       NaN\n"
     ]
    }
   ],
   "source": [
    "formula = 'Quantity ~ C(Month)'\n",
    "lm = smf.ols(formula, df3).fit()\n",
    "table = sm.stats.anova_lm(lm, typ=2)\n",
    "print(table)"
   ]
  },
  {
   "cell_type": "markdown",
   "metadata": {},
   "source": [
    "## df4 = Category 3 = Confections"
   ]
  },
  {
   "cell_type": "code",
   "execution_count": 26,
   "metadata": {},
   "outputs": [
    {
     "name": "stdout",
     "output_type": "stream",
     "text": [
      "Rows and Columns:\n",
      " (334, 4) \n",
      "\n",
      " ********************\n",
      "\n",
      "\n",
      "<class 'pandas.core.frame.DataFrame'>\n",
      "RangeIndex: 334 entries, 0 to 333\n",
      "Data columns (total 4 columns):\n",
      "OrderDate     334 non-null object\n",
      "Quantity      334 non-null int64\n",
      "Discount      334 non-null float64\n",
      "CategoryId    334 non-null int64\n",
      "dtypes: float64(1), int64(2), object(1)\n",
      "memory usage: 10.5+ KB\n",
      "None \n",
      "\n",
      " ********************\n",
      "\n",
      "\n",
      "Dataframe Head\n",
      "     OrderDate  Quantity  Discount  CategoryId\n",
      "0  2012-07-09        40      0.05           3\n",
      "1  2012-07-10        40      0.00           3\n",
      "2  2012-07-12        35      0.00           3\n",
      "3  2012-07-16        25      0.00           3\n",
      "4  2012-07-18        10      0.00           3\n"
     ]
    }
   ],
   "source": [
    "df4 = pd.read_sql_query('''\n",
    "\n",
    "                                SELECT O.OrderDate, OD.Quantity, OD.Discount, CategoryId FROM [Order] AS O\n",
    "                                JOIN OrderDetail AS OD\n",
    "                                ON O.Id = OD.OrderId\n",
    "                                JOIN Product\n",
    "                                ON Product.Id = OD.ProductId\n",
    "                                WHERE Product.CategoryId = 3\n",
    "\n",
    "''',engine)\n",
    "print('Rows and Columns:\\n', df4.shape,'\\n\\n', '********************\\n\\n')\n",
    "print( df4.info(), '\\n\\n', '********************\\n\\n')\n",
    "print('Dataframe Head\\n', df4.head())"
   ]
  },
  {
   "cell_type": "code",
   "execution_count": 27,
   "metadata": {},
   "outputs": [
    {
     "data": {
      "text/html": [
       "<div>\n",
       "<style scoped>\n",
       "    .dataframe tbody tr th:only-of-type {\n",
       "        vertical-align: middle;\n",
       "    }\n",
       "\n",
       "    .dataframe tbody tr th {\n",
       "        vertical-align: top;\n",
       "    }\n",
       "\n",
       "    .dataframe thead th {\n",
       "        text-align: right;\n",
       "    }\n",
       "</style>\n",
       "<table border=\"1\" class=\"dataframe\">\n",
       "  <thead>\n",
       "    <tr style=\"text-align: right;\">\n",
       "      <th></th>\n",
       "      <th>Quantity</th>\n",
       "      <th>Discount</th>\n",
       "      <th>CategoryId</th>\n",
       "    </tr>\n",
       "    <tr>\n",
       "      <th>Month</th>\n",
       "      <th></th>\n",
       "      <th></th>\n",
       "      <th></th>\n",
       "    </tr>\n",
       "  </thead>\n",
       "  <tbody>\n",
       "    <tr>\n",
       "      <th>1</th>\n",
       "      <td>24.043478</td>\n",
       "      <td>0.072826</td>\n",
       "      <td>3.0</td>\n",
       "    </tr>\n",
       "    <tr>\n",
       "      <th>2</th>\n",
       "      <td>22.552632</td>\n",
       "      <td>0.065789</td>\n",
       "      <td>3.0</td>\n",
       "    </tr>\n",
       "    <tr>\n",
       "      <th>3</th>\n",
       "      <td>26.627907</td>\n",
       "      <td>0.041860</td>\n",
       "      <td>3.0</td>\n",
       "    </tr>\n",
       "    <tr>\n",
       "      <th>4</th>\n",
       "      <td>28.689655</td>\n",
       "      <td>0.036207</td>\n",
       "      <td>3.0</td>\n",
       "    </tr>\n",
       "    <tr>\n",
       "      <th>5</th>\n",
       "      <td>21.363636</td>\n",
       "      <td>0.044091</td>\n",
       "      <td>3.0</td>\n",
       "    </tr>\n",
       "    <tr>\n",
       "      <th>6</th>\n",
       "      <td>17.833333</td>\n",
       "      <td>0.108333</td>\n",
       "      <td>3.0</td>\n",
       "    </tr>\n",
       "    <tr>\n",
       "      <th>7</th>\n",
       "      <td>21.666667</td>\n",
       "      <td>0.057143</td>\n",
       "      <td>3.0</td>\n",
       "    </tr>\n",
       "    <tr>\n",
       "      <th>8</th>\n",
       "      <td>22.954545</td>\n",
       "      <td>0.065909</td>\n",
       "      <td>3.0</td>\n",
       "    </tr>\n",
       "    <tr>\n",
       "      <th>9</th>\n",
       "      <td>20.633333</td>\n",
       "      <td>0.041667</td>\n",
       "      <td>3.0</td>\n",
       "    </tr>\n",
       "    <tr>\n",
       "      <th>10</th>\n",
       "      <td>20.607143</td>\n",
       "      <td>0.051786</td>\n",
       "      <td>3.0</td>\n",
       "    </tr>\n",
       "    <tr>\n",
       "      <th>11</th>\n",
       "      <td>26.100000</td>\n",
       "      <td>0.050000</td>\n",
       "      <td>3.0</td>\n",
       "    </tr>\n",
       "    <tr>\n",
       "      <th>12</th>\n",
       "      <td>24.517241</td>\n",
       "      <td>0.081034</td>\n",
       "      <td>3.0</td>\n",
       "    </tr>\n",
       "  </tbody>\n",
       "</table>\n",
       "</div>"
      ],
      "text/plain": [
       "        Quantity  Discount  CategoryId\n",
       "Month                                 \n",
       "1      24.043478  0.072826         3.0\n",
       "2      22.552632  0.065789         3.0\n",
       "3      26.627907  0.041860         3.0\n",
       "4      28.689655  0.036207         3.0\n",
       "5      21.363636  0.044091         3.0\n",
       "6      17.833333  0.108333         3.0\n",
       "7      21.666667  0.057143         3.0\n",
       "8      22.954545  0.065909         3.0\n",
       "9      20.633333  0.041667         3.0\n",
       "10     20.607143  0.051786         3.0\n",
       "11     26.100000  0.050000         3.0\n",
       "12     24.517241  0.081034         3.0"
      ]
     },
     "execution_count": 27,
     "metadata": {},
     "output_type": "execute_result"
    }
   ],
   "source": [
    "df4.OrderDate = pd.to_datetime(df4.OrderDate) #grouping by month \n",
    "df4['Month'] = df4.OrderDate.dt.month\n",
    "df4.groupby('Month').mean()"
   ]
  },
  {
   "cell_type": "code",
   "execution_count": 28,
   "metadata": {},
   "outputs": [
    {
     "data": {
      "image/png": "[encoded data removed]",
      "text/plain": [
       "<Figure size 720x360 with 1 Axes>"
      ]
     },
     "metadata": {
      "needs_background": "light"
     },
     "output_type": "display_data"
    }
   ],
   "source": [
    "fig, ax = plt.subplots(figsize=(10,5)) #visualization\n",
    "sns.countplot(x='Month',\n",
    "              data=df4)\n",
    "plt.title('Confections by Month')\n",
    "plt.show()"
   ]
  },
  {
   "cell_type": "code",
   "execution_count": 29,
   "metadata": {},
   "outputs": [
    {
     "name": "stdout",
     "output_type": "stream",
     "text": [
      "                sum_sq     df         F    PR(>F)\n",
      "C(Month)   2255.979195   11.0  0.680812  0.756744\n",
      "Residual  96999.793260  322.0       NaN       NaN\n"
     ]
    }
   ],
   "source": [
    "formula = 'Quantity ~ C(Month)'\n",
    "lm = smf.ols(formula, df4).fit()\n",
    "table = sm.stats.anova_lm(lm, typ=2)\n",
    "print(table)"
   ]
  },
  {
   "cell_type": "markdown",
   "metadata": {},
   "source": [
    "## df5 = Category 4 = Dairy Products"
   ]
  },
  {
   "cell_type": "code",
   "execution_count": 30,
   "metadata": {},
   "outputs": [
    {
     "name": "stdout",
     "output_type": "stream",
     "text": [
      "Rows and Columns:\n",
      " (366, 4) \n",
      "\n",
      " ********************\n",
      "\n",
      "\n",
      "<class 'pandas.core.frame.DataFrame'>\n",
      "RangeIndex: 366 entries, 0 to 365\n",
      "Data columns (total 4 columns):\n",
      "OrderDate     366 non-null object\n",
      "Quantity      366 non-null int64\n",
      "Discount      366 non-null float64\n",
      "CategoryId    366 non-null int64\n",
      "dtypes: float64(1), int64(2), object(1)\n",
      "memory usage: 11.5+ KB\n",
      "None \n",
      "\n",
      " ********************\n",
      "\n",
      "\n",
      "Dataframe Head\n",
      "     OrderDate  Quantity  Discount  CategoryId\n",
      "0  2012-07-04        12      0.00           4\n",
      "1  2012-07-04         5      0.00           4\n",
      "2  2012-07-09        25      0.05           4\n",
      "3  2012-07-09        40      0.00           4\n",
      "4  2012-07-10        20      0.00           4\n"
     ]
    }
   ],
   "source": [
    "df5 = pd.read_sql_query('''\n",
    "\n",
    "                                SELECT O.OrderDate, OD.Quantity, OD.Discount, CategoryId FROM [Order] AS O\n",
    "                                JOIN OrderDetail AS OD\n",
    "                                ON O.Id = OD.OrderId\n",
    "                                JOIN Product\n",
    "                                ON Product.Id = OD.ProductId\n",
    "                                WHERE Product.CategoryId = 4\n",
    "\n",
    "''',engine)\n",
    "print('Rows and Columns:\\n', df5.shape,'\\n\\n', '********************\\n\\n')\n",
    "print( df5.info(), '\\n\\n', '********************\\n\\n')\n",
    "print('Dataframe Head\\n', df5.head())"
   ]
  },
  {
   "cell_type": "code",
   "execution_count": 31,
   "metadata": {},
   "outputs": [
    {
     "data": {
      "text/html": [
       "<div>\n",
       "<style scoped>\n",
       "    .dataframe tbody tr th:only-of-type {\n",
       "        vertical-align: middle;\n",
       "    }\n",
       "\n",
       "    .dataframe tbody tr th {\n",
       "        vertical-align: top;\n",
       "    }\n",
       "\n",
       "    .dataframe thead th {\n",
       "        text-align: right;\n",
       "    }\n",
       "</style>\n",
       "<table border=\"1\" class=\"dataframe\">\n",
       "  <thead>\n",
       "    <tr style=\"text-align: right;\">\n",
       "      <th></th>\n",
       "      <th>Quantity</th>\n",
       "      <th>Discount</th>\n",
       "      <th>CategoryId</th>\n",
       "    </tr>\n",
       "    <tr>\n",
       "      <th>Month</th>\n",
       "      <th></th>\n",
       "      <th></th>\n",
       "      <th></th>\n",
       "    </tr>\n",
       "  </thead>\n",
       "  <tbody>\n",
       "    <tr>\n",
       "      <th>1</th>\n",
       "      <td>29.722222</td>\n",
       "      <td>0.047222</td>\n",
       "      <td>4.0</td>\n",
       "    </tr>\n",
       "    <tr>\n",
       "      <th>2</th>\n",
       "      <td>28.916667</td>\n",
       "      <td>0.045833</td>\n",
       "      <td>4.0</td>\n",
       "    </tr>\n",
       "    <tr>\n",
       "      <th>3</th>\n",
       "      <td>22.300000</td>\n",
       "      <td>0.057500</td>\n",
       "      <td>4.0</td>\n",
       "    </tr>\n",
       "    <tr>\n",
       "      <th>4</th>\n",
       "      <td>27.466667</td>\n",
       "      <td>0.036667</td>\n",
       "      <td>4.0</td>\n",
       "    </tr>\n",
       "    <tr>\n",
       "      <th>5</th>\n",
       "      <td>17.633333</td>\n",
       "      <td>0.053667</td>\n",
       "      <td>4.0</td>\n",
       "    </tr>\n",
       "    <tr>\n",
       "      <th>6</th>\n",
       "      <td>25.312500</td>\n",
       "      <td>0.087500</td>\n",
       "      <td>4.0</td>\n",
       "    </tr>\n",
       "    <tr>\n",
       "      <th>7</th>\n",
       "      <td>26.076923</td>\n",
       "      <td>0.051923</td>\n",
       "      <td>4.0</td>\n",
       "    </tr>\n",
       "    <tr>\n",
       "      <th>8</th>\n",
       "      <td>21.083333</td>\n",
       "      <td>0.043750</td>\n",
       "      <td>4.0</td>\n",
       "    </tr>\n",
       "    <tr>\n",
       "      <th>9</th>\n",
       "      <td>22.115385</td>\n",
       "      <td>0.055769</td>\n",
       "      <td>4.0</td>\n",
       "    </tr>\n",
       "    <tr>\n",
       "      <th>10</th>\n",
       "      <td>25.451613</td>\n",
       "      <td>0.066129</td>\n",
       "      <td>4.0</td>\n",
       "    </tr>\n",
       "    <tr>\n",
       "      <th>11</th>\n",
       "      <td>23.866667</td>\n",
       "      <td>0.046667</td>\n",
       "      <td>4.0</td>\n",
       "    </tr>\n",
       "    <tr>\n",
       "      <th>12</th>\n",
       "      <td>27.868421</td>\n",
       "      <td>0.065789</td>\n",
       "      <td>4.0</td>\n",
       "    </tr>\n",
       "  </tbody>\n",
       "</table>\n",
       "</div>"
      ],
      "text/plain": [
       "        Quantity  Discount  CategoryId\n",
       "Month                                 \n",
       "1      29.722222  0.047222         4.0\n",
       "2      28.916667  0.045833         4.0\n",
       "3      22.300000  0.057500         4.0\n",
       "4      27.466667  0.036667         4.0\n",
       "5      17.633333  0.053667         4.0\n",
       "6      25.312500  0.087500         4.0\n",
       "7      26.076923  0.051923         4.0\n",
       "8      21.083333  0.043750         4.0\n",
       "9      22.115385  0.055769         4.0\n",
       "10     25.451613  0.066129         4.0\n",
       "11     23.866667  0.046667         4.0\n",
       "12     27.868421  0.065789         4.0"
      ]
     },
     "execution_count": 31,
     "metadata": {},
     "output_type": "execute_result"
    }
   ],
   "source": [
    "df5.OrderDate = pd.to_datetime(df5.OrderDate) #grouping by month \n",
    "df5['Month'] = df5.OrderDate.dt.month\n",
    "df5.groupby('Month').mean()"
   ]
  },
  {
   "cell_type": "code",
   "execution_count": 32,
   "metadata": {},
   "outputs": [
    {
     "data": {
      "image/png": "[encoded data removed]",
      "text/plain": [
       "<Figure size 720x360 with 1 Axes>"
      ]
     },
     "metadata": {
      "needs_background": "light"
     },
     "output_type": "display_data"
    }
   ],
   "source": [
    "fig, ax = plt.subplots(figsize=(10,5)) #visualization\n",
    "sns.countplot(x='Month',\n",
    "              data=df5)\n",
    "plt.title('Dairy Products by Month')\n",
    "plt.show()"
   ]
  },
  {
   "cell_type": "code",
   "execution_count": 33,
   "metadata": {},
   "outputs": [
    {
     "name": "stdout",
     "output_type": "stream",
     "text": [
      "                sum_sq     df         F    PR(>F)\n",
      "C(Month)   2255.979195   11.0  0.680812  0.756744\n",
      "Residual  96999.793260  322.0       NaN       NaN\n"
     ]
    }
   ],
   "source": [
    "formula = 'Quantity ~ C(Month)'\n",
    "lm = smf.ols(formula, df4).fit()\n",
    "table = sm.stats.anova_lm(lm, typ=2)\n",
    "print(table)"
   ]
  },
  {
   "cell_type": "markdown",
   "metadata": {},
   "source": [
    "## df6 = Category 5 = Grains and Cereals"
   ]
  },
  {
   "cell_type": "code",
   "execution_count": 34,
   "metadata": {},
   "outputs": [
    {
     "name": "stdout",
     "output_type": "stream",
     "text": [
      "Rows and Columns:\n",
      " (196, 4) \n",
      "\n",
      " ********************\n",
      "\n",
      "\n",
      "<class 'pandas.core.frame.DataFrame'>\n",
      "RangeIndex: 196 entries, 0 to 195\n",
      "Data columns (total 4 columns):\n",
      "OrderDate     196 non-null object\n",
      "Quantity      196 non-null int64\n",
      "Discount      196 non-null float64\n",
      "CategoryId    196 non-null int64\n",
      "dtypes: float64(1), int64(2), object(1)\n",
      "memory usage: 6.2+ KB\n",
      "None \n",
      "\n",
      " ********************\n",
      "\n",
      "\n",
      "Dataframe Head\n",
      "     OrderDate  Quantity  Discount  CategoryId\n",
      "0  2012-07-04        10      0.00           5\n",
      "1  2012-07-08         6      0.05           5\n",
      "2  2012-07-08        15      0.05           5\n",
      "3  2012-07-19        50      0.00           5\n",
      "4  2012-07-22         2      0.00           5\n"
     ]
    }
   ],
   "source": [
    "df6 = pd.read_sql_query('''\n",
    "\n",
    "                                SELECT O.OrderDate, OD.Quantity, OD.Discount, CategoryId FROM [Order] AS O\n",
    "                                JOIN OrderDetail AS OD\n",
    "                                ON O.Id = OD.OrderId\n",
    "                                JOIN Product\n",
    "                                ON Product.Id = OD.ProductId\n",
    "                                WHERE Product.CategoryId = 5\n",
    "\n",
    "''',engine)\n",
    "print('Rows and Columns:\\n', df6.shape,'\\n\\n', '********************\\n\\n')\n",
    "print( df6.info(), '\\n\\n', '********************\\n\\n')\n",
    "print('Dataframe Head\\n', df6.head())"
   ]
  },
  {
   "cell_type": "code",
   "execution_count": 35,
   "metadata": {},
   "outputs": [
    {
     "data": {
      "text/html": [
       "<div>\n",
       "<style scoped>\n",
       "    .dataframe tbody tr th:only-of-type {\n",
       "        vertical-align: middle;\n",
       "    }\n",
       "\n",
       "    .dataframe tbody tr th {\n",
       "        vertical-align: top;\n",
       "    }\n",
       "\n",
       "    .dataframe thead th {\n",
       "        text-align: right;\n",
       "    }\n",
       "</style>\n",
       "<table border=\"1\" class=\"dataframe\">\n",
       "  <thead>\n",
       "    <tr style=\"text-align: right;\">\n",
       "      <th></th>\n",
       "      <th>Quantity</th>\n",
       "      <th>Discount</th>\n",
       "      <th>CategoryId</th>\n",
       "    </tr>\n",
       "    <tr>\n",
       "      <th>Month</th>\n",
       "      <th></th>\n",
       "      <th></th>\n",
       "      <th></th>\n",
       "    </tr>\n",
       "  </thead>\n",
       "  <tbody>\n",
       "    <tr>\n",
       "      <th>1</th>\n",
       "      <td>28.740741</td>\n",
       "      <td>0.025926</td>\n",
       "      <td>5.0</td>\n",
       "    </tr>\n",
       "    <tr>\n",
       "      <th>2</th>\n",
       "      <td>22.473684</td>\n",
       "      <td>0.050000</td>\n",
       "      <td>5.0</td>\n",
       "    </tr>\n",
       "    <tr>\n",
       "      <th>3</th>\n",
       "      <td>18.150000</td>\n",
       "      <td>0.060000</td>\n",
       "      <td>5.0</td>\n",
       "    </tr>\n",
       "    <tr>\n",
       "      <th>4</th>\n",
       "      <td>21.480000</td>\n",
       "      <td>0.026000</td>\n",
       "      <td>5.0</td>\n",
       "    </tr>\n",
       "    <tr>\n",
       "      <th>5</th>\n",
       "      <td>31.666667</td>\n",
       "      <td>0.053333</td>\n",
       "      <td>5.0</td>\n",
       "    </tr>\n",
       "    <tr>\n",
       "      <th>6</th>\n",
       "      <td>29.200000</td>\n",
       "      <td>0.050000</td>\n",
       "      <td>5.0</td>\n",
       "    </tr>\n",
       "    <tr>\n",
       "      <th>7</th>\n",
       "      <td>25.076923</td>\n",
       "      <td>0.050000</td>\n",
       "      <td>5.0</td>\n",
       "    </tr>\n",
       "    <tr>\n",
       "      <th>8</th>\n",
       "      <td>19.545455</td>\n",
       "      <td>0.004545</td>\n",
       "      <td>5.0</td>\n",
       "    </tr>\n",
       "    <tr>\n",
       "      <th>9</th>\n",
       "      <td>18.375000</td>\n",
       "      <td>0.050000</td>\n",
       "      <td>5.0</td>\n",
       "    </tr>\n",
       "    <tr>\n",
       "      <th>10</th>\n",
       "      <td>22.333333</td>\n",
       "      <td>0.062500</td>\n",
       "      <td>5.0</td>\n",
       "    </tr>\n",
       "    <tr>\n",
       "      <th>11</th>\n",
       "      <td>24.944444</td>\n",
       "      <td>0.047222</td>\n",
       "      <td>5.0</td>\n",
       "    </tr>\n",
       "    <tr>\n",
       "      <th>12</th>\n",
       "      <td>20.625000</td>\n",
       "      <td>0.081250</td>\n",
       "      <td>5.0</td>\n",
       "    </tr>\n",
       "  </tbody>\n",
       "</table>\n",
       "</div>"
      ],
      "text/plain": [
       "        Quantity  Discount  CategoryId\n",
       "Month                                 \n",
       "1      28.740741  0.025926         5.0\n",
       "2      22.473684  0.050000         5.0\n",
       "3      18.150000  0.060000         5.0\n",
       "4      21.480000  0.026000         5.0\n",
       "5      31.666667  0.053333         5.0\n",
       "6      29.200000  0.050000         5.0\n",
       "7      25.076923  0.050000         5.0\n",
       "8      19.545455  0.004545         5.0\n",
       "9      18.375000  0.050000         5.0\n",
       "10     22.333333  0.062500         5.0\n",
       "11     24.944444  0.047222         5.0\n",
       "12     20.625000  0.081250         5.0"
      ]
     },
     "execution_count": 35,
     "metadata": {},
     "output_type": "execute_result"
    }
   ],
   "source": [
    "df6.OrderDate = pd.to_datetime(df6.OrderDate) #grouping by month \n",
    "df6['Month'] = df6.OrderDate.dt.month\n",
    "df6.groupby('Month').mean()"
   ]
  },
  {
   "cell_type": "code",
   "execution_count": 36,
   "metadata": {},
   "outputs": [
    {
     "data": {
      "image/png": "[encoded data removed]",
      "text/plain": [
       "<Figure size 720x360 with 1 Axes>"
      ]
     },
     "metadata": {
      "needs_background": "light"
     },
     "output_type": "display_data"
    }
   ],
   "source": [
    "fig, ax = plt.subplots(figsize=(10,5)) #visualization\n",
    "sns.countplot(x='Month',\n",
    "              data=df6)\n",
    "plt.title('Dairy Products by Month')\n",
    "plt.show()"
   ]
  },
  {
   "cell_type": "code",
   "execution_count": 37,
   "metadata": {},
   "outputs": [
    {
     "name": "stdout",
     "output_type": "stream",
     "text": [
      "                sum_sq     df         F    PR(>F)\n",
      "C(Month)   3162.048961   11.0  0.855684  0.584842\n",
      "Residual  61813.073488  184.0       NaN       NaN\n"
     ]
    }
   ],
   "source": [
    "formula = 'Quantity ~ C(Month)'\n",
    "lm = smf.ols(formula, df6).fit()\n",
    "table = sm.stats.anova_lm(lm, typ=2)\n",
    "print(table)"
   ]
  },
  {
   "cell_type": "markdown",
   "metadata": {},
   "source": [
    "## df7 = Category 6 = Meat and Poultry"
   ]
  },
  {
   "cell_type": "code",
   "execution_count": 38,
   "metadata": {},
   "outputs": [
    {
     "name": "stdout",
     "output_type": "stream",
     "text": [
      "Rows and Columns:\n",
      " (173, 4) \n",
      "\n",
      " ********************\n",
      "\n",
      "\n",
      "<class 'pandas.core.frame.DataFrame'>\n",
      "RangeIndex: 173 entries, 0 to 172\n",
      "Data columns (total 4 columns):\n",
      "OrderDate     173 non-null object\n",
      "Quantity      173 non-null int64\n",
      "Discount      173 non-null float64\n",
      "CategoryId    173 non-null int64\n",
      "dtypes: float64(1), int64(2), object(1)\n",
      "memory usage: 5.5+ KB\n",
      "None \n",
      "\n",
      " ********************\n",
      "\n",
      "\n",
      "Dataframe Head\n",
      "     OrderDate  Quantity  Discount  CategoryId\n",
      "0  2012-07-11        21      0.15           6\n",
      "1  2012-07-15        15      0.00           6\n",
      "2  2012-07-25        30      0.00           6\n",
      "3  2012-07-30        10      0.00           6\n",
      "4  2012-08-13        15      0.25           6\n"
     ]
    }
   ],
   "source": [
    "df7 = pd.read_sql_query('''\n",
    "\n",
    "                                SELECT O.OrderDate, OD.Quantity, OD.Discount, CategoryId FROM [Order] AS O\n",
    "                                JOIN OrderDetail AS OD\n",
    "                                ON O.Id = OD.OrderId\n",
    "                                JOIN Product\n",
    "                                ON Product.Id = OD.ProductId\n",
    "                                WHERE Product.CategoryId = 6\n",
    "\n",
    "''',engine)\n",
    "print('Rows and Columns:\\n', df7.shape,'\\n\\n', '********************\\n\\n')\n",
    "print( df7.info(), '\\n\\n', '********************\\n\\n')\n",
    "print('Dataframe Head\\n', df7.head())"
   ]
  },
  {
   "cell_type": "code",
   "execution_count": 39,
   "metadata": {},
   "outputs": [
    {
     "data": {
      "text/html": [
       "<div>\n",
       "<style scoped>\n",
       "    .dataframe tbody tr th:only-of-type {\n",
       "        vertical-align: middle;\n",
       "    }\n",
       "\n",
       "    .dataframe tbody tr th {\n",
       "        vertical-align: top;\n",
       "    }\n",
       "\n",
       "    .dataframe thead th {\n",
       "        text-align: right;\n",
       "    }\n",
       "</style>\n",
       "<table border=\"1\" class=\"dataframe\">\n",
       "  <thead>\n",
       "    <tr style=\"text-align: right;\">\n",
       "      <th></th>\n",
       "      <th>Quantity</th>\n",
       "      <th>Discount</th>\n",
       "      <th>CategoryId</th>\n",
       "    </tr>\n",
       "    <tr>\n",
       "      <th>Month</th>\n",
       "      <th></th>\n",
       "      <th></th>\n",
       "      <th></th>\n",
       "    </tr>\n",
       "  </thead>\n",
       "  <tbody>\n",
       "    <tr>\n",
       "      <th>1</th>\n",
       "      <td>19.555556</td>\n",
       "      <td>0.088889</td>\n",
       "      <td>6.0</td>\n",
       "    </tr>\n",
       "    <tr>\n",
       "      <th>2</th>\n",
       "      <td>32.476190</td>\n",
       "      <td>0.064286</td>\n",
       "      <td>6.0</td>\n",
       "    </tr>\n",
       "    <tr>\n",
       "      <th>3</th>\n",
       "      <td>14.923077</td>\n",
       "      <td>0.053846</td>\n",
       "      <td>6.0</td>\n",
       "    </tr>\n",
       "    <tr>\n",
       "      <th>4</th>\n",
       "      <td>26.210526</td>\n",
       "      <td>0.071053</td>\n",
       "      <td>6.0</td>\n",
       "    </tr>\n",
       "    <tr>\n",
       "      <th>5</th>\n",
       "      <td>22.000000</td>\n",
       "      <td>0.083333</td>\n",
       "      <td>6.0</td>\n",
       "    </tr>\n",
       "    <tr>\n",
       "      <th>6</th>\n",
       "      <td>18.571429</td>\n",
       "      <td>0.021429</td>\n",
       "      <td>6.0</td>\n",
       "    </tr>\n",
       "    <tr>\n",
       "      <th>7</th>\n",
       "      <td>28.333333</td>\n",
       "      <td>0.038889</td>\n",
       "      <td>6.0</td>\n",
       "    </tr>\n",
       "    <tr>\n",
       "      <th>8</th>\n",
       "      <td>18.000000</td>\n",
       "      <td>0.054167</td>\n",
       "      <td>6.0</td>\n",
       "    </tr>\n",
       "    <tr>\n",
       "      <th>9</th>\n",
       "      <td>21.230769</td>\n",
       "      <td>0.057692</td>\n",
       "      <td>6.0</td>\n",
       "    </tr>\n",
       "    <tr>\n",
       "      <th>10</th>\n",
       "      <td>29.500000</td>\n",
       "      <td>0.058333</td>\n",
       "      <td>6.0</td>\n",
       "    </tr>\n",
       "    <tr>\n",
       "      <th>11</th>\n",
       "      <td>21.181818</td>\n",
       "      <td>0.027273</td>\n",
       "      <td>6.0</td>\n",
       "    </tr>\n",
       "    <tr>\n",
       "      <th>12</th>\n",
       "      <td>28.400000</td>\n",
       "      <td>0.095000</td>\n",
       "      <td>6.0</td>\n",
       "    </tr>\n",
       "  </tbody>\n",
       "</table>\n",
       "</div>"
      ],
      "text/plain": [
       "        Quantity  Discount  CategoryId\n",
       "Month                                 \n",
       "1      19.555556  0.088889         6.0\n",
       "2      32.476190  0.064286         6.0\n",
       "3      14.923077  0.053846         6.0\n",
       "4      26.210526  0.071053         6.0\n",
       "5      22.000000  0.083333         6.0\n",
       "6      18.571429  0.021429         6.0\n",
       "7      28.333333  0.038889         6.0\n",
       "8      18.000000  0.054167         6.0\n",
       "9      21.230769  0.057692         6.0\n",
       "10     29.500000  0.058333         6.0\n",
       "11     21.181818  0.027273         6.0\n",
       "12     28.400000  0.095000         6.0"
      ]
     },
     "execution_count": 39,
     "metadata": {},
     "output_type": "execute_result"
    }
   ],
   "source": [
    "df7.OrderDate = pd.to_datetime(df7.OrderDate) #grouping by month \n",
    "df7['Month'] = df7.OrderDate.dt.month\n",
    "df7.groupby('Month').mean()"
   ]
  },
  {
   "cell_type": "code",
   "execution_count": 40,
   "metadata": {},
   "outputs": [
    {
     "data": {
      "image/png": "[encoded data removed]",
      "text/plain": [
       "<Figure size 720x360 with 1 Axes>"
      ]
     },
     "metadata": {
      "needs_background": "light"
     },
     "output_type": "display_data"
    }
   ],
   "source": [
    "fig, ax = plt.subplots(figsize=(10,5)) #visualization\n",
    "sns.countplot(x='Month',\n",
    "              data=df7)\n",
    "plt.title('Meat and Poultry by Month')\n",
    "plt.show()"
   ]
  },
  {
   "cell_type": "code",
   "execution_count": 41,
   "metadata": {},
   "outputs": [
    {
     "name": "stdout",
     "output_type": "stream",
     "text": [
      "                sum_sq     df         F    PR(>F)\n",
      "C(Month)   4989.509361   11.0  0.911979  0.530343\n",
      "Residual  80076.721853  161.0       NaN       NaN\n"
     ]
    }
   ],
   "source": [
    "formula = 'Quantity ~ C(Month)'\n",
    "lm = smf.ols(formula, df7).fit()\n",
    "table = sm.stats.anova_lm(lm, typ=2)\n",
    "print(table)"
   ]
  },
  {
   "cell_type": "markdown",
   "metadata": {},
   "source": [
    "## df8 = Category 7 = Produce "
   ]
  },
  {
   "cell_type": "code",
   "execution_count": 42,
   "metadata": {},
   "outputs": [
    {
     "name": "stdout",
     "output_type": "stream",
     "text": [
      "Rows and Columns:\n",
      " (136, 4) \n",
      "\n",
      " ********************\n",
      "\n",
      "\n",
      "<class 'pandas.core.frame.DataFrame'>\n",
      "RangeIndex: 136 entries, 0 to 135\n",
      "Data columns (total 4 columns):\n",
      "OrderDate     136 non-null object\n",
      "Quantity      136 non-null int64\n",
      "Discount      136 non-null float64\n",
      "CategoryId    136 non-null int64\n",
      "dtypes: float64(1), int64(2), object(1)\n",
      "memory usage: 4.3+ KB\n",
      "None \n",
      "\n",
      " ********************\n",
      "\n",
      "\n",
      "Dataframe Head\n",
      "     OrderDate  Quantity  Discount  CategoryId\n",
      "0  2012-07-05         9      0.00           7\n",
      "1  2012-07-05        40      0.00           7\n",
      "2  2012-07-08        35      0.15           7\n",
      "3  2012-07-11        21      0.00           7\n",
      "4  2012-07-22        15      0.00           7\n"
     ]
    }
   ],
   "source": [
    "df8 = pd.read_sql_query('''\n",
    "\n",
    "                                SELECT O.OrderDate, OD.Quantity, OD.Discount, CategoryId FROM [Order] AS O\n",
    "                                JOIN OrderDetail AS OD\n",
    "                                ON O.Id = OD.OrderId\n",
    "                                JOIN Product\n",
    "                                ON Product.Id = OD.ProductId\n",
    "                                WHERE Product.CategoryId = 7\n",
    "\n",
    "''',engine)\n",
    "print('Rows and Columns:\\n', df8.shape,'\\n\\n', '********************\\n\\n')\n",
    "print( df8.info(), '\\n\\n', '********************\\n\\n')\n",
    "print('Dataframe Head\\n', df8.head())"
   ]
  },
  {
   "cell_type": "code",
   "execution_count": 43,
   "metadata": {},
   "outputs": [
    {
     "data": {
      "text/html": [
       "<div>\n",
       "<style scoped>\n",
       "    .dataframe tbody tr th:only-of-type {\n",
       "        vertical-align: middle;\n",
       "    }\n",
       "\n",
       "    .dataframe tbody tr th {\n",
       "        vertical-align: top;\n",
       "    }\n",
       "\n",
       "    .dataframe thead th {\n",
       "        text-align: right;\n",
       "    }\n",
       "</style>\n",
       "<table border=\"1\" class=\"dataframe\">\n",
       "  <thead>\n",
       "    <tr style=\"text-align: right;\">\n",
       "      <th></th>\n",
       "      <th>Quantity</th>\n",
       "      <th>Discount</th>\n",
       "      <th>CategoryId</th>\n",
       "    </tr>\n",
       "    <tr>\n",
       "      <th>Month</th>\n",
       "      <th></th>\n",
       "      <th></th>\n",
       "      <th></th>\n",
       "    </tr>\n",
       "  </thead>\n",
       "  <tbody>\n",
       "    <tr>\n",
       "      <th>1</th>\n",
       "      <td>16.545455</td>\n",
       "      <td>0.050000</td>\n",
       "      <td>7.0</td>\n",
       "    </tr>\n",
       "    <tr>\n",
       "      <th>2</th>\n",
       "      <td>15.555556</td>\n",
       "      <td>0.011111</td>\n",
       "      <td>7.0</td>\n",
       "    </tr>\n",
       "    <tr>\n",
       "      <th>3</th>\n",
       "      <td>21.500000</td>\n",
       "      <td>0.004545</td>\n",
       "      <td>7.0</td>\n",
       "    </tr>\n",
       "    <tr>\n",
       "      <th>4</th>\n",
       "      <td>29.105263</td>\n",
       "      <td>0.028947</td>\n",
       "      <td>7.0</td>\n",
       "    </tr>\n",
       "    <tr>\n",
       "      <th>5</th>\n",
       "      <td>12.888889</td>\n",
       "      <td>0.075556</td>\n",
       "      <td>7.0</td>\n",
       "    </tr>\n",
       "    <tr>\n",
       "      <th>6</th>\n",
       "      <td>21.285714</td>\n",
       "      <td>0.085714</td>\n",
       "      <td>7.0</td>\n",
       "    </tr>\n",
       "    <tr>\n",
       "      <th>7</th>\n",
       "      <td>26.375000</td>\n",
       "      <td>0.050000</td>\n",
       "      <td>7.0</td>\n",
       "    </tr>\n",
       "    <tr>\n",
       "      <th>8</th>\n",
       "      <td>15.666667</td>\n",
       "      <td>0.038889</td>\n",
       "      <td>7.0</td>\n",
       "    </tr>\n",
       "    <tr>\n",
       "      <th>9</th>\n",
       "      <td>17.500000</td>\n",
       "      <td>0.025000</td>\n",
       "      <td>7.0</td>\n",
       "    </tr>\n",
       "    <tr>\n",
       "      <th>10</th>\n",
       "      <td>33.250000</td>\n",
       "      <td>0.037500</td>\n",
       "      <td>7.0</td>\n",
       "    </tr>\n",
       "    <tr>\n",
       "      <th>11</th>\n",
       "      <td>16.000000</td>\n",
       "      <td>0.055556</td>\n",
       "      <td>7.0</td>\n",
       "    </tr>\n",
       "    <tr>\n",
       "      <th>12</th>\n",
       "      <td>26.842105</td>\n",
       "      <td>0.100000</td>\n",
       "      <td>7.0</td>\n",
       "    </tr>\n",
       "  </tbody>\n",
       "</table>\n",
       "</div>"
      ],
      "text/plain": [
       "        Quantity  Discount  CategoryId\n",
       "Month                                 \n",
       "1      16.545455  0.050000         7.0\n",
       "2      15.555556  0.011111         7.0\n",
       "3      21.500000  0.004545         7.0\n",
       "4      29.105263  0.028947         7.0\n",
       "5      12.888889  0.075556         7.0\n",
       "6      21.285714  0.085714         7.0\n",
       "7      26.375000  0.050000         7.0\n",
       "8      15.666667  0.038889         7.0\n",
       "9      17.500000  0.025000         7.0\n",
       "10     33.250000  0.037500         7.0\n",
       "11     16.000000  0.055556         7.0\n",
       "12     26.842105  0.100000         7.0"
      ]
     },
     "execution_count": 43,
     "metadata": {},
     "output_type": "execute_result"
    }
   ],
   "source": [
    "df8.OrderDate = pd.to_datetime(df8.OrderDate) #grouping by month \n",
    "df8['Month'] = df8.OrderDate.dt.month\n",
    "df8.groupby('Month').mean()"
   ]
  },
  {
   "cell_type": "code",
   "execution_count": 44,
   "metadata": {},
   "outputs": [
    {
     "data": {
      "image/png": "[encoded data removed]",
      "text/plain": [
       "<Figure size 720x360 with 1 Axes>"
      ]
     },
     "metadata": {
      "needs_background": "light"
     },
     "output_type": "display_data"
    }
   ],
   "source": [
    "fig, ax = plt.subplots(figsize=(10,5)) #visualization\n",
    "sns.countplot(x='Month',\n",
    "              data=df8)\n",
    "plt.title('Meat and Poultry by Month')\n",
    "plt.show()"
   ]
  },
  {
   "cell_type": "code",
   "execution_count": 45,
   "metadata": {},
   "outputs": [
    {
     "name": "stdout",
     "output_type": "stream",
     "text": [
      "                sum_sq     df         F    PR(>F)\n",
      "C(Month)   4834.012843   11.0  1.318794  0.221691\n",
      "Residual  41319.957745  124.0       NaN       NaN\n"
     ]
    }
   ],
   "source": [
    "formula = 'Quantity ~ C(Month)'\n",
    "lm = smf.ols(formula, df8).fit()\n",
    "table = sm.stats.anova_lm(lm, typ=2)\n",
    "print(table)"
   ]
  },
  {
   "cell_type": "markdown",
   "metadata": {},
   "source": [
    "## df9 = Category 8 = Seafood"
   ]
  },
  {
   "cell_type": "code",
   "execution_count": 46,
   "metadata": {},
   "outputs": [
    {
     "name": "stdout",
     "output_type": "stream",
     "text": [
      "Rows and Columns:\n",
      " (330, 4) \n",
      "\n",
      " ********************\n",
      "\n",
      "\n",
      "<class 'pandas.core.frame.DataFrame'>\n",
      "RangeIndex: 330 entries, 0 to 329\n",
      "Data columns (total 4 columns):\n",
      "OrderDate     330 non-null object\n",
      "Quantity      330 non-null int64\n",
      "Discount      330 non-null float64\n",
      "CategoryId    330 non-null int64\n",
      "dtypes: float64(1), int64(2), object(1)\n",
      "memory usage: 10.4+ KB\n",
      "None \n",
      "\n",
      " ********************\n",
      "\n",
      "\n",
      "Dataframe Head\n",
      "     OrderDate  Quantity  Discount  CategoryId\n",
      "0  2012-07-08        10      0.00           8\n",
      "1  2012-07-12        25      0.00           8\n",
      "2  2012-07-18         1      0.00           8\n",
      "3  2012-07-19        16      0.25           8\n",
      "4  2012-07-23        60      0.25           8\n"
     ]
    }
   ],
   "source": [
    "df9 = pd.read_sql_query('''\n",
    "\n",
    "                                SELECT O.OrderDate, OD.Quantity, OD.Discount, CategoryId FROM [Order] AS O\n",
    "                                JOIN OrderDetail AS OD\n",
    "                                ON O.Id = OD.OrderId\n",
    "                                JOIN Product\n",
    "                                ON Product.Id = OD.ProductId\n",
    "                                WHERE Product.CategoryId = 8\n",
    "\n",
    "''',engine)\n",
    "print('Rows and Columns:\\n', df9.shape,'\\n\\n', '********************\\n\\n')\n",
    "print( df9.info(), '\\n\\n', '********************\\n\\n')\n",
    "print('Dataframe Head\\n', df9.head())"
   ]
  },
  {
   "cell_type": "code",
   "execution_count": 47,
   "metadata": {},
   "outputs": [
    {
     "data": {
      "text/html": [
       "<div>\n",
       "<style scoped>\n",
       "    .dataframe tbody tr th:only-of-type {\n",
       "        vertical-align: middle;\n",
       "    }\n",
       "\n",
       "    .dataframe tbody tr th {\n",
       "        vertical-align: top;\n",
       "    }\n",
       "\n",
       "    .dataframe thead th {\n",
       "        text-align: right;\n",
       "    }\n",
       "</style>\n",
       "<table border=\"1\" class=\"dataframe\">\n",
       "  <thead>\n",
       "    <tr style=\"text-align: right;\">\n",
       "      <th></th>\n",
       "      <th>Quantity</th>\n",
       "      <th>Discount</th>\n",
       "      <th>CategoryId</th>\n",
       "    </tr>\n",
       "    <tr>\n",
       "      <th>Month</th>\n",
       "      <th></th>\n",
       "      <th></th>\n",
       "      <th></th>\n",
       "    </tr>\n",
       "  </thead>\n",
       "  <tbody>\n",
       "    <tr>\n",
       "      <th>1</th>\n",
       "      <td>26.147059</td>\n",
       "      <td>0.085294</td>\n",
       "      <td>8.0</td>\n",
       "    </tr>\n",
       "    <tr>\n",
       "      <th>2</th>\n",
       "      <td>23.700000</td>\n",
       "      <td>0.040000</td>\n",
       "      <td>8.0</td>\n",
       "    </tr>\n",
       "    <tr>\n",
       "      <th>3</th>\n",
       "      <td>20.585366</td>\n",
       "      <td>0.047561</td>\n",
       "      <td>8.0</td>\n",
       "    </tr>\n",
       "    <tr>\n",
       "      <th>4</th>\n",
       "      <td>24.194444</td>\n",
       "      <td>0.072222</td>\n",
       "      <td>8.0</td>\n",
       "    </tr>\n",
       "    <tr>\n",
       "      <th>5</th>\n",
       "      <td>17.300000</td>\n",
       "      <td>0.046000</td>\n",
       "      <td>8.0</td>\n",
       "    </tr>\n",
       "    <tr>\n",
       "      <th>6</th>\n",
       "      <td>16.000000</td>\n",
       "      <td>0.027778</td>\n",
       "      <td>8.0</td>\n",
       "    </tr>\n",
       "    <tr>\n",
       "      <th>7</th>\n",
       "      <td>32.529412</td>\n",
       "      <td>0.070588</td>\n",
       "      <td>8.0</td>\n",
       "    </tr>\n",
       "    <tr>\n",
       "      <th>8</th>\n",
       "      <td>22.360000</td>\n",
       "      <td>0.062000</td>\n",
       "      <td>8.0</td>\n",
       "    </tr>\n",
       "    <tr>\n",
       "      <th>9</th>\n",
       "      <td>29.888889</td>\n",
       "      <td>0.064815</td>\n",
       "      <td>8.0</td>\n",
       "    </tr>\n",
       "    <tr>\n",
       "      <th>10</th>\n",
       "      <td>24.700000</td>\n",
       "      <td>0.073333</td>\n",
       "      <td>8.0</td>\n",
       "    </tr>\n",
       "    <tr>\n",
       "      <th>11</th>\n",
       "      <td>20.041667</td>\n",
       "      <td>0.052083</td>\n",
       "      <td>8.0</td>\n",
       "    </tr>\n",
       "    <tr>\n",
       "      <th>12</th>\n",
       "      <td>20.814815</td>\n",
       "      <td>0.061111</td>\n",
       "      <td>8.0</td>\n",
       "    </tr>\n",
       "  </tbody>\n",
       "</table>\n",
       "</div>"
      ],
      "text/plain": [
       "        Quantity  Discount  CategoryId\n",
       "Month                                 \n",
       "1      26.147059  0.085294         8.0\n",
       "2      23.700000  0.040000         8.0\n",
       "3      20.585366  0.047561         8.0\n",
       "4      24.194444  0.072222         8.0\n",
       "5      17.300000  0.046000         8.0\n",
       "6      16.000000  0.027778         8.0\n",
       "7      32.529412  0.070588         8.0\n",
       "8      22.360000  0.062000         8.0\n",
       "9      29.888889  0.064815         8.0\n",
       "10     24.700000  0.073333         8.0\n",
       "11     20.041667  0.052083         8.0\n",
       "12     20.814815  0.061111         8.0"
      ]
     },
     "execution_count": 47,
     "metadata": {},
     "output_type": "execute_result"
    }
   ],
   "source": [
    "df9.OrderDate = pd.to_datetime(df9.OrderDate) #grouping by month \n",
    "df9['Month'] = df9.OrderDate.dt.month\n",
    "df9.groupby('Month').mean()"
   ]
  },
  {
   "cell_type": "code",
   "execution_count": 48,
   "metadata": {},
   "outputs": [
    {
     "data": {
      "image/png": "[encoded data removed]",
      "text/plain": [
       "<Figure size 720x360 with 1 Axes>"
      ]
     },
     "metadata": {
      "needs_background": "light"
     },
     "output_type": "display_data"
    }
   ],
   "source": [
    "fig, ax = plt.subplots(figsize=(10,5)) #visualization\n",
    "sns.countplot(x='Month',\n",
    "              data=df9)\n",
    "plt.title('Meat and Poultry by Month')\n",
    "plt.show()"
   ]
  },
  {
   "cell_type": "code",
   "execution_count": 49,
   "metadata": {},
   "outputs": [
    {
     "name": "stdout",
     "output_type": "stream",
     "text": [
      "                 sum_sq     df        F    PR(>F)\n",
      "C(Month)    5293.456878   11.0  1.32483  0.209122\n",
      "Residual  115508.449182  318.0      NaN       NaN\n"
     ]
    }
   ],
   "source": [
    "formula = 'Quantity ~ C(Month)'\n",
    "lm = smf.ols(formula, df9).fit()\n",
    "table = sm.stats.anova_lm(lm, typ=2)\n",
    "print(table)"
   ]
  },
  {
   "cell_type": "markdown",
   "metadata": {},
   "source": [
    "## Results \n",
    "#### Our F statistic came out to be greater than our alpha in all cases. Hence, we failed to reject the null hypothesis in all cases. "
   ]
  },
  {
   "cell_type": "markdown",
   "metadata": {},
   "source": [
    "## Conclusions \n",
    "**- All discounts have approximately the same effect on order quantity with the exception of the 10% discount.**<br>\n",
    "\n",
    "**- There were less quantities of all products ordered during the month of June but the quantity dips were not significant enough to reject our null hypothesis**<br>\n",
    "\n",
    "## Recommendations\n",
    "**- From the data, I would recommend getting rid of the 10% discounts. However, with more time I would run some further analysis to determine why the 10% does not have the same effect on quantities purchased as the other discounts. It seems a bit odd that 5% would have an effect but 10% would not.**<br>\n",
    "\n",
    "**- Although we failed to reject the null hypothesis for the categories questions, the exploratory analysis did seem to show a dip in sales after April. Furthur inquiry might provide some insight.** \n"
   ]
  },
  {
   "cell_type": "code",
   "execution_count": null,
   "metadata": {},
   "outputs": [],
   "source": []
  }
 ],
 "metadata": {
  "kernelspec": {
   "display_name": "learn-env",
   "language": "python",
   "name": "learn-env"
  },
  "language_info": {
   "codemirror_mode": {
    "name": "ipython",
    "version": 3
   },
   "file_extension": ".py",
   "mimetype": "text/x-python",
   "name": "python",
   "nbconvert_exporter": "python",
   "pygments_lexer": "ipython3",
   "version": "3.6.6"
  }
 },
 "nbformat": 4,
 "nbformat_minor": 2
}
